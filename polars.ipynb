{
  "cells": [
    {
      "cell_type": "markdown",
      "metadata": {
        "id": "view-in-github",
        "colab_type": "text"
      },
      "source": [
        "<a href=\"https://colab.research.google.com/github/realgjl/Polars-guide/blob/main/polars.ipynb\" target=\"_parent\"><img src=\"https://colab.research.google.com/assets/colab-badge.svg\" alt=\"Open In Colab\"/></a>"
      ]
    },
    {
      "cell_type": "code",
      "source": [
        "import polars as pl"
      ],
      "metadata": {
        "id": "HIZrCPn7NpDi"
      },
      "execution_count": 1,
      "outputs": []
    },
    {
      "cell_type": "markdown",
      "source": [
        "create some polars dataframe"
      ],
      "metadata": {
        "id": "HQI0a0DsOUqG"
      }
    },
    {
      "cell_type": "code",
      "source": [
        "data = {'employee_id': [1, 1, 1, 2, 2, 2],\n",
        "        'datetime_start': ['2023-01-02 00:00:00', '2023-01-02 05:00:00', '2023-01-02 06:00:00',\n",
        "                  '2023-01-01 23:00:00', '2023-01-02 02:00:00', '2023-01-02 08:00:00'],\n",
        "        'datetime_end': ['2023-01-02 05:00:00', '2023-01-02 06:00:00', '2023-01-02 11:00:00',\n",
        "                '2023-01-02 02:00:00', '2023-01-02 08:00:00', '2023-01-02 13:00:00'],\n",
        "        'type': ['working', 'resting', 'working', 'working', 'resting', 'working'],\n",
        "        'shift_id': [1, 2, 3, 1, 2, 3]}\n",
        "timesheet_df = pl.DataFrame(data)\n",
        "timesheet_df"
      ],
      "metadata": {
        "colab": {
          "base_uri": "https://localhost:8080/",
          "height": 286
        },
        "id": "gTkztca3NpIE",
        "outputId": "16f8d9e1-b2f2-4a4f-c5f3-ab1f092c114f"
      },
      "execution_count": 2,
      "outputs": [
        {
          "output_type": "execute_result",
          "data": {
            "text/plain": [
              "shape: (6, 5)\n",
              "┌─────────────┬─────────────────────┬─────────────────────┬─────────┬──────────┐\n",
              "│ employee_id ┆ datetime_start      ┆ datetime_end        ┆ type    ┆ shift_id │\n",
              "│ ---         ┆ ---                 ┆ ---                 ┆ ---     ┆ ---      │\n",
              "│ i64         ┆ str                 ┆ str                 ┆ str     ┆ i64      │\n",
              "╞═════════════╪═════════════════════╪═════════════════════╪═════════╪══════════╡\n",
              "│ 1           ┆ 2023-01-02 00:00:00 ┆ 2023-01-02 05:00:00 ┆ working ┆ 1        │\n",
              "│ 1           ┆ 2023-01-02 05:00:00 ┆ 2023-01-02 06:00:00 ┆ resting ┆ 2        │\n",
              "│ 1           ┆ 2023-01-02 06:00:00 ┆ 2023-01-02 11:00:00 ┆ working ┆ 3        │\n",
              "│ 2           ┆ 2023-01-01 23:00:00 ┆ 2023-01-02 02:00:00 ┆ working ┆ 1        │\n",
              "│ 2           ┆ 2023-01-02 02:00:00 ┆ 2023-01-02 08:00:00 ┆ resting ┆ 2        │\n",
              "│ 2           ┆ 2023-01-02 08:00:00 ┆ 2023-01-02 13:00:00 ┆ working ┆ 3        │\n",
              "└─────────────┴─────────────────────┴─────────────────────┴─────────┴──────────┘"
            ],
            "text/html": [
              "<div><style>\n",
              ".dataframe > thead > tr > th,\n",
              ".dataframe > tbody > tr > td {\n",
              "  text-align: right;\n",
              "}\n",
              "</style>\n",
              "<small>shape: (6, 5)</small><table border=\"1\" class=\"dataframe\"><thead><tr><th>employee_id</th><th>datetime_start</th><th>datetime_end</th><th>type</th><th>shift_id</th></tr><tr><td>i64</td><td>str</td><td>str</td><td>str</td><td>i64</td></tr></thead><tbody><tr><td>1</td><td>&quot;2023-01-02 00:…</td><td>&quot;2023-01-02 05:…</td><td>&quot;working&quot;</td><td>1</td></tr><tr><td>1</td><td>&quot;2023-01-02 05:…</td><td>&quot;2023-01-02 06:…</td><td>&quot;resting&quot;</td><td>2</td></tr><tr><td>1</td><td>&quot;2023-01-02 06:…</td><td>&quot;2023-01-02 11:…</td><td>&quot;working&quot;</td><td>3</td></tr><tr><td>2</td><td>&quot;2023-01-01 23:…</td><td>&quot;2023-01-02 02:…</td><td>&quot;working&quot;</td><td>1</td></tr><tr><td>2</td><td>&quot;2023-01-02 02:…</td><td>&quot;2023-01-02 08:…</td><td>&quot;resting&quot;</td><td>2</td></tr><tr><td>2</td><td>&quot;2023-01-02 08:…</td><td>&quot;2023-01-02 13:…</td><td>&quot;working&quot;</td><td>3</td></tr></tbody></table></div>"
            ]
          },
          "metadata": {},
          "execution_count": 2
        }
      ]
    },
    {
      "cell_type": "markdown",
      "source": [
        "sometimes need to transfer a string to polars dattime format"
      ],
      "metadata": {
        "id": "H7mWXTzwOana"
      }
    },
    {
      "cell_type": "code",
      "source": [
        "def polars_to_datetime(datetimeLikeString):\n",
        "\n",
        "    test_df = pl.DataFrame({'date_str': [datetimeLikeString]})\n",
        "    date_df = test_df.with_columns(pl.col('date_str').str.strptime(pl.Datetime, format='%Y-%m-%d %H:%M:%S').cast(pl.Datetime))\n",
        "    returned_datetime = list(date_df[0])[0][0]\n",
        "\n",
        "    return returned_datetime\n",
        "\n",
        "\n",
        "job_start = polars_to_datetime('2023-01-02 12:00:00')\n",
        "job_end = polars_to_datetime('2023-01-02 13:00:00')\n",
        "\n",
        "print(job_start)"
      ],
      "metadata": {
        "colab": {
          "base_uri": "https://localhost:8080/"
        },
        "id": "QjXTiLKTOCzU",
        "outputId": "8b27f04c-11a6-4487-a548-5958a8052ec0"
      },
      "execution_count": 3,
      "outputs": [
        {
          "output_type": "stream",
          "name": "stdout",
          "text": [
            "2023-01-02 12:00:00\n"
          ]
        }
      ]
    },
    {
      "cell_type": "markdown",
      "source": [
        "convert inside the csv as well"
      ],
      "metadata": {
        "id": "IYVzgfesRWzn"
      }
    },
    {
      "cell_type": "code",
      "source": [
        "timesheet_df = timesheet_df.with_columns(\n",
        "    pl.col('datetime_start')\n",
        "    .str.strptime(pl.Datetime, format=\"%Y-%m-%d %H:%M:%S\", strict=False)\n",
        "    .alias('datetime_start')\n",
        ")\n",
        "timesheet_df = timesheet_df.with_columns(\n",
        "    pl.col('datetime_end')\n",
        "    .str.strptime(pl.Datetime, format=\"%Y-%m-%d %H:%M:%S\", strict=False)\n",
        "    .alias('datetime_end')\n",
        ")\n",
        "print(timesheet_df)"
      ],
      "metadata": {
        "colab": {
          "base_uri": "https://localhost:8080/"
        },
        "id": "ylpp5_l-Rdpp",
        "outputId": "aa80e7cd-c7db-479f-9026-47d16d468f1e"
      },
      "execution_count": 4,
      "outputs": [
        {
          "output_type": "stream",
          "name": "stdout",
          "text": [
            "shape: (6, 5)\n",
            "┌─────────────┬─────────────────────┬─────────────────────┬─────────┬──────────┐\n",
            "│ employee_id ┆ datetime_start      ┆ datetime_end        ┆ type    ┆ shift_id │\n",
            "│ ---         ┆ ---                 ┆ ---                 ┆ ---     ┆ ---      │\n",
            "│ i64         ┆ datetime[μs]        ┆ datetime[μs]        ┆ str     ┆ i64      │\n",
            "╞═════════════╪═════════════════════╪═════════════════════╪═════════╪══════════╡\n",
            "│ 1           ┆ 2023-01-02 00:00:00 ┆ 2023-01-02 05:00:00 ┆ working ┆ 1        │\n",
            "│ 1           ┆ 2023-01-02 05:00:00 ┆ 2023-01-02 06:00:00 ┆ resting ┆ 2        │\n",
            "│ 1           ┆ 2023-01-02 06:00:00 ┆ 2023-01-02 11:00:00 ┆ working ┆ 3        │\n",
            "│ 2           ┆ 2023-01-01 23:00:00 ┆ 2023-01-02 02:00:00 ┆ working ┆ 1        │\n",
            "│ 2           ┆ 2023-01-02 02:00:00 ┆ 2023-01-02 08:00:00 ┆ resting ┆ 2        │\n",
            "│ 2           ┆ 2023-01-02 08:00:00 ┆ 2023-01-02 13:00:00 ┆ working ┆ 3        │\n",
            "└─────────────┴─────────────────────┴─────────────────────┴─────────┴──────────┘\n"
          ]
        }
      ]
    },
    {
      "cell_type": "markdown",
      "source": [
        "👆 you can see the formate of datetime_start and datetime_end is different now.\n",
        "\n"
      ],
      "metadata": {
        "id": "IH94lvKTRrQS"
      }
    },
    {
      "cell_type": "markdown",
      "source": [
        "filter is so easy here!"
      ],
      "metadata": {
        "id": "w3UEfAZMOtjv"
      }
    },
    {
      "cell_type": "code",
      "source": [
        "# %%timeit\n",
        "\n",
        "employee_ids = [1]\n",
        "# condition: id is 1 and type is not resting\n",
        "condition = (pl.col('employee_id').is_in(employee_ids)) & (~(pl.col('type') == 'resting'))\n",
        "result = timesheet_df.filter(condition)\n",
        "print(result)"
      ],
      "metadata": {
        "colab": {
          "base_uri": "https://localhost:8080/"
        },
        "id": "-HoizNJtOC18",
        "outputId": "7bf01fa3-8d5b-482b-dd3b-eb003ec4cb39"
      },
      "execution_count": 5,
      "outputs": [
        {
          "output_type": "stream",
          "name": "stdout",
          "text": [
            "shape: (2, 5)\n",
            "┌─────────────┬─────────────────────┬─────────────────────┬─────────┬──────────┐\n",
            "│ employee_id ┆ datetime_start      ┆ datetime_end        ┆ type    ┆ shift_id │\n",
            "│ ---         ┆ ---                 ┆ ---                 ┆ ---     ┆ ---      │\n",
            "│ i64         ┆ datetime[μs]        ┆ datetime[μs]        ┆ str     ┆ i64      │\n",
            "╞═════════════╪═════════════════════╪═════════════════════╪═════════╪══════════╡\n",
            "│ 1           ┆ 2023-01-02 00:00:00 ┆ 2023-01-02 05:00:00 ┆ working ┆ 1        │\n",
            "│ 1           ┆ 2023-01-02 06:00:00 ┆ 2023-01-02 11:00:00 ┆ working ┆ 3        │\n",
            "└─────────────┴─────────────────────┴─────────────────────┴─────────┴──────────┘\n"
          ]
        }
      ]
    },
    {
      "cell_type": "code",
      "source": [
        "print(result)"
      ],
      "metadata": {
        "colab": {
          "base_uri": "https://localhost:8080/"
        },
        "id": "_0pWc89tUIJ0",
        "outputId": "f1117ef8-3c3d-47b6-ca92-b5bb8a3df6a1"
      },
      "execution_count": 6,
      "outputs": [
        {
          "output_type": "stream",
          "name": "stdout",
          "text": [
            "shape: (2, 5)\n",
            "┌─────────────┬─────────────────────┬─────────────────────┬─────────┬──────────┐\n",
            "│ employee_id ┆ datetime_start      ┆ datetime_end        ┆ type    ┆ shift_id │\n",
            "│ ---         ┆ ---                 ┆ ---                 ┆ ---     ┆ ---      │\n",
            "│ i64         ┆ datetime[μs]        ┆ datetime[μs]        ┆ str     ┆ i64      │\n",
            "╞═════════════╪═════════════════════╪═════════════════════╪═════════╪══════════╡\n",
            "│ 1           ┆ 2023-01-02 00:00:00 ┆ 2023-01-02 05:00:00 ┆ working ┆ 1        │\n",
            "│ 1           ┆ 2023-01-02 06:00:00 ┆ 2023-01-02 11:00:00 ┆ working ┆ 3        │\n",
            "└─────────────┴─────────────────────┴─────────────────────┴─────────┴──────────┘\n"
          ]
        }
      ]
    },
    {
      "cell_type": "markdown",
      "source": [
        "sometimes need a list of one column of the results"
      ],
      "metadata": {
        "id": "Z4egHPO8QUqL"
      }
    },
    {
      "cell_type": "code",
      "source": [
        "result_id_list = timesheet_df.filter(condition)[\"employee_id\"].to_list()\n",
        "print(result_id_list)"
      ],
      "metadata": {
        "colab": {
          "base_uri": "https://localhost:8080/"
        },
        "id": "fbCHzAegOC4Q",
        "outputId": "e1780b09-85e8-4493-b72f-8a20f2a1392f"
      },
      "execution_count": 7,
      "outputs": [
        {
          "output_type": "stream",
          "name": "stdout",
          "text": [
            "[1, 1]\n"
          ]
        }
      ]
    },
    {
      "cell_type": "markdown",
      "source": [
        "add another column based on the given data (do some math)"
      ],
      "metadata": {
        "id": "7hjeEtHGQzBT"
      }
    },
    {
      "cell_type": "code",
      "source": [
        "result = result.with_columns([\n",
        "    (pl.col('datetime_end') - pl.col('datetime_start')).dt.hours().alias('duration (hrs)')\n",
        "])\n",
        "print(result)"
      ],
      "metadata": {
        "colab": {
          "base_uri": "https://localhost:8080/"
        },
        "id": "TVBGb5wAOC5n",
        "outputId": "cdcdf7e1-68df-4144-ab83-e26d00ab9402"
      },
      "execution_count": 8,
      "outputs": [
        {
          "output_type": "stream",
          "name": "stdout",
          "text": [
            "shape: (2, 6)\n",
            "┌─────────────┬─────────────────────┬─────────────────────┬─────────┬──────────┬────────────────┐\n",
            "│ employee_id ┆ datetime_start      ┆ datetime_end        ┆ type    ┆ shift_id ┆ duration (hrs) │\n",
            "│ ---         ┆ ---                 ┆ ---                 ┆ ---     ┆ ---      ┆ ---            │\n",
            "│ i64         ┆ datetime[μs]        ┆ datetime[μs]        ┆ str     ┆ i64      ┆ i64            │\n",
            "╞═════════════╪═════════════════════╪═════════════════════╪═════════╪══════════╪════════════════╡\n",
            "│ 1           ┆ 2023-01-02 00:00:00 ┆ 2023-01-02 05:00:00 ┆ working ┆ 1        ┆ 5              │\n",
            "│ 1           ┆ 2023-01-02 06:00:00 ┆ 2023-01-02 11:00:00 ┆ working ┆ 3        ┆ 5              │\n",
            "└─────────────┴─────────────────────┴─────────────────────┴─────────┴──────────┴────────────────┘\n"
          ]
        }
      ]
    },
    {
      "cell_type": "code",
      "source": [
        "collapsed_df = result.groupby('employee_id').agg([\n",
        "    pl.col('datetime_start').first(),\n",
        "    pl.col('datetime_end').last(),\n",
        "    pl.col('type').first(),\n",
        "]).sort(\"employee_id\", descending=False)\n",
        "print(collapsed_df)"
      ],
      "metadata": {
        "colab": {
          "base_uri": "https://localhost:8080/"
        },
        "id": "Vck4ZgEiNpKT",
        "outputId": "7be83ce1-e996-43dc-df0b-1860c092f012"
      },
      "execution_count": 9,
      "outputs": [
        {
          "output_type": "stream",
          "name": "stdout",
          "text": [
            "shape: (1, 4)\n",
            "┌─────────────┬─────────────────────┬─────────────────────┬─────────┐\n",
            "│ employee_id ┆ datetime_start      ┆ datetime_end        ┆ type    │\n",
            "│ ---         ┆ ---                 ┆ ---                 ┆ ---     │\n",
            "│ i64         ┆ datetime[μs]        ┆ datetime[μs]        ┆ str     │\n",
            "╞═════════════╪═════════════════════╪═════════════════════╪═════════╡\n",
            "│ 1           ┆ 2023-01-02 00:00:00 ┆ 2023-01-02 11:00:00 ┆ working │\n",
            "└─────────────┴─────────────────────┴─────────────────────┴─────────┘\n"
          ]
        }
      ]
    },
    {
      "cell_type": "markdown",
      "source": [
        "keep in mind and use well with the following ```with_columns``` subfunctions: ```.dt.hours()```, ```.alias(\"\")```, ```.str.strptime(pl.Datetime```, ```fmt=\"%Y-%m-%d %H:%M\", strict=False)```, ```.select(\"\")```, ```.apply(lambda x: ...)```, ```.cumsum()```, ```.groupby(\"\")``` etc\n",
        "\n"
      ],
      "metadata": {
        "id": "_ok6Y5yKWJwH"
      }
    },
    {
      "cell_type": "code",
      "source": [],
      "metadata": {
        "id": "eAl8QWJ0T-qH"
      },
      "execution_count": 9,
      "outputs": []
    }
  ],
  "metadata": {
    "language_info": {
      "name": "python"
    },
    "orig_nbformat": 4,
    "colab": {
      "provenance": [],
      "include_colab_link": true
    },
    "kernelspec": {
      "name": "python3",
      "display_name": "Python 3"
    },
    "gpuClass": "standard"
  },
  "nbformat": 4,
  "nbformat_minor": 0
}